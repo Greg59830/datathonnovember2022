{
  "nbformat": 4,
  "nbformat_minor": 0,
  "metadata": {
    "colab": {
      "provenance": []
    },
    "kernelspec": {
      "name": "python3",
      "display_name": "Python 3"
    },
    "language_info": {
      "name": "python"
    }
  },
  "cells": [
    {
      "cell_type": "code",
      "execution_count": null,
      "metadata": {
        "colab": {
          "base_uri": "https://localhost:8080/"
        },
        "id": "gVY2F1pF3n8Y",
        "outputId": "89efd306-df91-48b4-bab9-c27c9ad10093"
      },
      "outputs": [
        {
          "output_type": "stream",
          "name": "stdout",
          "text": [
            "Mounted at /content/drive\n"
          ]
        }
      ],
      "source": [
        "import pandas as pd\n",
        "import numpy as np\n",
        "import io\n",
        "from google.colab import drive\n",
        "from scipy.stats import poisson\n",
        "import random\n",
        "drive.mount('/content/drive')"
      ]
    },
    {
      "cell_type": "code",
      "source": [
        "link = \"/content/drive/MyDrive/2209-Data/Projets/Projet2/Hackaton - nous/holiday_calendar.csv\"\n",
        "df_holiday_calendar = pd.read_csv(link,sep=\",\")"
      ],
      "metadata": {
        "id": "e0Z6H2fC3zQA"
      },
      "execution_count": null,
      "outputs": []
    },
    {
      "cell_type": "code",
      "source": [
        "print(df_holiday_calendar.head().to_markdown())"
      ],
      "metadata": {
        "colab": {
          "base_uri": "https://localhost:8080/"
        },
        "id": "FGnhX5MR4pYC",
        "outputId": "ec278dd7-7e81-4c33-8726-1cc2a0bae9a7"
      },
      "execution_count": null,
      "outputs": [
        {
          "output_type": "stream",
          "name": "stdout",
          "text": [
            "|    | Country     | Country Code   | Day      | Date       | Holiday Name           | Type             | Comments                  |\n",
            "|---:|:------------|:---------------|:---------|:-----------|:-----------------------|:-----------------|:--------------------------|\n",
            "|  0 | afghanistan | AF             | Tuesday  | 2022-02-15 | Liberation Day         | National Holiday | nan                       |\n",
            "|  1 | afghanistan | AF             | Monday   | 2022-03-21 | Nowrooz                | National Holiday | Afghan New Year           |\n",
            "|  2 | afghanistan | AF             | Tuesday  | 2022-03-22 | Nowrooz Holiday        | National Holiday | nan                       |\n",
            "|  3 | afghanistan | AF             | Sunday   | 2022-04-03 | Ramadan                | National Holiday | Expected Start of Ramadan |\n",
            "|  4 | afghanistan | AF             | Thursday | 2022-04-28 | Mujahideen Victory Day | National Holiday | nan                       |\n"
          ]
        }
      ]
    },
    {
      "cell_type": "code",
      "source": [
        "AU= df_holiday_calendar.loc[df_holiday_calendar['Country Code'] == \"AU\"]"
      ],
      "metadata": {
        "id": "ULmzmO6U5cnp"
      },
      "execution_count": null,
      "outputs": []
    },
    {
      "cell_type": "code",
      "source": [
        "print(AU.head(40).to_markdown())"
      ],
      "metadata": {
        "colab": {
          "base_uri": "https://localhost:8080/"
        },
        "id": "jnItz9QC8aW-",
        "outputId": "176795ea-8143-47ca-9e5f-39452026150f"
      },
      "execution_count": null,
      "outputs": [
        {
          "output_type": "stream",
          "name": "stdout",
          "text": [
            "|     | Country   | Country Code   | Day       | Date       | Holiday Name             | Type                 | Comments                                               |\n",
            "|----:|:----------|:---------------|:----------|:-----------|:-------------------------|:---------------------|:-------------------------------------------------------|\n",
            "| 164 | australia | AU             | Saturday  | 2022-01-01 | New Year's Day           | National Holiday     | nan                                                    |\n",
            "| 165 | australia | AU             | Monday    | 2022-01-03 | New Year's Day (in lieu) | National Holiday     | nan                                                    |\n",
            "| 166 | australia | AU             | Wednesday | 2022-01-26 | Australia Day            | National Holiday     | nan                                                    |\n",
            "| 167 | australia | AU             | Monday    | 2022-03-07 | Labour Day               | Regional Holiday     | WA                                                     |\n",
            "| 168 | australia | AU             | Monday    | 2022-03-14 | Adelaide Cup             | Regional Holiday     | 2nd Monday in March. SA Only                           |\n",
            "| 169 | australia | AU             | Monday    | 2022-03-14 | Canberra Day             | Regional Holiday     | ACT. Second Monday in March                            |\n",
            "| 170 | australia | AU             | Monday    | 2022-03-14 | Labour Day               | Regional Holiday     | VIC, TAS                                               |\n",
            "| 171 | australia | AU             | Friday    | 2022-04-15 | Good Friday              | National Holiday     | Restricted trading day                                 |\n",
            "| 172 | australia | AU             | Saturday  | 2022-04-16 | Easter Saturday          | Regional Holiday     | Except TAS, WA                                         |\n",
            "| 173 | australia | AU             | Sunday    | 2022-04-17 | Easter Sunday            | Regional Holiday     | ACT, NSW, QLD, VIC                                     |\n",
            "| 174 | australia | AU             | Monday    | 2022-04-18 | Easter Monday            | National Holiday     | Monday after Easter Sunday                             |\n",
            "| 175 | australia | AU             | Tuesday   | 2022-04-19 | Easter Tuesday           | Government Holiday   | Tasmania. Government only                              |\n",
            "| 176 | australia | AU             | Monday    | 2022-04-25 | Anzac Day                | National Holiday     | Restricted trading day                                 |\n",
            "| 177 | australia | AU             | Monday    | 2022-05-02 | Labour Day               | Regional Holiday     | QLD, NT                                                |\n",
            "| 178 | australia | AU             | Sunday    | 2022-05-08 | Mother's Day             | Not A Public Holiday | 2nd Sunday in May. Not a public holiday                |\n",
            "| 179 | australia | AU             | Monday    | 2022-05-30 | Reconciliation Day       | Regional Holiday     | ACT Only. Monday on or after 27 May                    |\n",
            "| 180 | australia | AU             | Monday    | 2022-06-06 | Western Australia Day    | Regional Holiday     | First Monday in June. WA only                          |\n",
            "| 181 | australia | AU             | Monday    | 2022-06-13 | Queen's Birthday         | Regional Holiday     | 2nd Monday in June. except QLD, WA                     |\n",
            "| 182 | australia | AU             | Monday    | 2022-08-01 | Picnic Day               | Regional Holiday     | 1st Monday in August. NT Only                          |\n",
            "| 183 | australia | AU             | Monday    | 2022-08-01 | Bank Holiday             | Not A Public Holiday | New South Wales. Banks only                            |\n",
            "| 184 | australia | AU             | Wednesday | 2022-08-10 | Ekka People's Day        | Regional Holiday     | Royal Queensland Show. Brisbane only                   |\n",
            "| 185 | australia | AU             | Sunday    | 2022-09-04 | Father's Day             | Not A Public Holiday | 1st Sunday in September. Not a public holiday          |\n",
            "| 186 | australia | AU             | Monday    | 2022-09-26 | Queen's Birthday         | Regional Holiday     | Last Monday in September. WA Only                      |\n",
            "| 187 | australia | AU             | Friday    | 2022-09-30 | Grand Final Eve          | Regional Holiday     | Victoria. Probable Date                                |\n",
            "| 188 | australia | AU             | Monday    | 2022-10-03 | Labour Day               | Regional Holiday     | NSW, ACT, SA                                           |\n",
            "| 189 | australia | AU             | Monday    | 2022-10-03 | Queen's Birthday         | Regional Holiday     | 1st Monday in October. QLD                             |\n",
            "| 190 | australia | AU             | Tuesday   | 2022-11-01 | Melbourne Cup Day        | Regional Holiday     | 1st Tuesday in November. VIC Only                      |\n",
            "| 191 | australia | AU             | Saturday  | 2022-12-24 | Christmas Eve            | Regional Holiday     | South Australia. From 7pm - midnight                   |\n",
            "| 192 | australia | AU             | Saturday  | 2022-12-24 | Christmas Eve            | Regional Holiday     | Queensland. From 6pm - midnight                        |\n",
            "| 193 | australia | AU             | Saturday  | 2022-12-24 | Christmas Eve            | Regional Holiday     | Northern Territory. From 7pm - midnight                |\n",
            "| 194 | australia | AU             | Sunday    | 2022-12-25 | Christmas Day            | National Holiday     | Restricted trading day                                 |\n",
            "| 195 | australia | AU             | Monday    | 2022-12-26 | Boxing Day               | Regional Holiday     | Except South Australia                                 |\n",
            "| 196 | australia | AU             | Monday    | 2022-12-26 | Proclamation Day         | Regional Holiday     | South Australia. First working day after Christmas Day |\n",
            "| 197 | australia | AU             | Tuesday   | 2022-12-27 | Christmas Day (in lieu)  | National Holiday     | nan                                                    |\n",
            "| 198 | australia | AU             | Saturday  | 2022-12-31 | New Year's Eve           | Regional Holiday     | South Australia. From 7pm - midnight                   |\n",
            "| 199 | australia | AU             | Saturday  | 2022-12-31 | New Year's Eve           | Regional Holiday     | Northern Territory. From 7pm - midnight                |\n"
          ]
        }
      ]
    },
    {
      "cell_type": "code",
      "source": [
        "GB= df_holiday_calendar.loc[df_holiday_calendar['Country Code'] == \"GB\"]"
      ],
      "metadata": {
        "id": "YX1LA5VK8zJY"
      },
      "execution_count": null,
      "outputs": []
    },
    {
      "cell_type": "code",
      "source": [
        "print(GB.head(40).to_markdown())"
      ],
      "metadata": {
        "colab": {
          "base_uri": "https://localhost:8080/"
        },
        "id": "-XvZMCb99DAJ",
        "outputId": "6bf2f264-19dc-4e8b-f48c-5660d624c6f1"
      },
      "execution_count": null,
      "outputs": [
        {
          "output_type": "stream",
          "name": "stdout",
          "text": [
            "|      | Country        | Country Code   | Day       | Date       | Holiday Name                       | Type                 | Comments                                 |\n",
            "|-----:|:---------------|:---------------|:----------|:-----------|:-----------------------------------|:---------------------|:-----------------------------------------|\n",
            "| 3686 | united-kingdom | GB             | Saturday  | 2022-01-01 | New Year's Day                     | Bank Holiday         | nan                                      |\n",
            "| 3687 | united-kingdom | GB             | Monday    | 2022-01-03 | New Year's Day (in lieu)           | Bank Holiday         | nan                                      |\n",
            "| 3688 | united-kingdom | GB             | Tuesday   | 2022-01-04 | Day after New Year's Day (in lieu) | Regional Holiday     | Scotland                                 |\n",
            "| 3689 | united-kingdom | GB             | Tuesday   | 2022-03-01 | St. David's Day                    | Not A Public Holiday | Wales Only. Not a public holiday         |\n",
            "| 3690 | united-kingdom | GB             | Thursday  | 2022-03-17 | St. Patrick's Day                  | Regional Holiday     | Northern Ireland                         |\n",
            "| 3691 | united-kingdom | GB             | Sunday    | 2022-03-27 | Mothering Sunday                   | Not A Public Holiday | Not a National Holiday                   |\n",
            "| 3692 | united-kingdom | GB             | Friday    | 2022-04-15 | Good Friday                        | Bank Holiday         | nan                                      |\n",
            "| 3693 | united-kingdom | GB             | Sunday    | 2022-04-17 | Easter Sunday                      | Not A Public Holiday | nan                                      |\n",
            "| 3694 | united-kingdom | GB             | Monday    | 2022-04-18 | Easter Monday                      | Regional Holiday     | Except Scotland                          |\n",
            "| 3695 | united-kingdom | GB             | Saturday  | 2022-04-23 | St. George's Day                   | Not A Public Holiday | England. Not a public holiday            |\n",
            "| 3696 | united-kingdom | GB             | Monday    | 2022-05-02 | Early May Bank Holiday             | Bank Holiday         | First Monday in May                      |\n",
            "| 3697 | united-kingdom | GB             | Thursday  | 2022-06-02 | Spring Bank Holiday                | Bank Holiday         | Moved for Platinum Jubilee               |\n",
            "| 3698 | united-kingdom | GB             | Friday    | 2022-06-03 | Platinum Jubilee                   | Bank Holiday         | nan                                      |\n",
            "| 3699 | united-kingdom | GB             | Sunday    | 2022-06-19 | Father's Day                       | Not A Public Holiday | 3rd Sunday in June. Not a public holiday |\n",
            "| 3700 | united-kingdom | GB             | Tuesday   | 2022-07-12 | Battle of the Boyne (in lieu)      | Regional Holiday     | Northern Ireland Only                    |\n",
            "| 3701 | united-kingdom | GB             | Monday    | 2022-08-01 | Summer bank holiday                | Regional Holiday     | First Monday in August (Scotland)        |\n",
            "| 3702 | united-kingdom | GB             | Monday    | 2022-08-29 | August Bank Holiday                | Regional Holiday     | Last Monday in August (except Scotland)  |\n",
            "| 3703 | united-kingdom | GB             | Sunday    | 2022-11-13 | Remembrance Sunday                 | Not A Public Holiday | Not a public holiday                     |\n",
            "| 3704 | united-kingdom | GB             | Wednesday | 2022-11-30 | St. Andrew's Day                   | Regional Holiday     | Scotland Only                            |\n",
            "| 3705 | united-kingdom | GB             | Sunday    | 2022-12-25 | Christmas Day                      | Bank Holiday         | nan                                      |\n",
            "| 3706 | united-kingdom | GB             | Monday    | 2022-12-26 | Boxing Day                         | Bank Holiday         | nan                                      |\n",
            "| 3707 | united-kingdom | GB             | Tuesday   | 2022-12-27 | Christmas Day (in lieu)            | Bank Holiday         | nan                                      |\n",
            "| 3708 | united-kingdom | GB             | Wednesday | 2022-12-28 | Bank Holiday                       | Not A Public Holiday | Northern Ireland. Banks closed           |\n"
          ]
        }
      ]
    },
    {
      "cell_type": "code",
      "source": [
        "US= df_holiday_calendar.loc[df_holiday_calendar['Country Code'] == \"US\"]"
      ],
      "metadata": {
        "id": "_XKi_xHK956J"
      },
      "execution_count": null,
      "outputs": []
    },
    {
      "cell_type": "code",
      "source": [
        "print(US.head(40).to_markdown())"
      ],
      "metadata": {
        "colab": {
          "base_uri": "https://localhost:8080/"
        },
        "id": "MZYDxf9A-K6p",
        "outputId": "0130b999-b6a0-4ce1-ce92-c04c236c7a63"
      },
      "execution_count": null,
      "outputs": [
        {
          "output_type": "stream",
          "name": "stdout",
          "text": [
            "|      | Country   | Country Code   | Day      | Date       | Holiday Name               | Type                 | Comments                                 |\n",
            "|-----:|:----------|:---------------|:---------|:-----------|:---------------------------|:---------------------|:-----------------------------------------|\n",
            "| 3746 | usa       | US             | Saturday | 2022-01-01 | New Year's Day             | Federal Holiday      | nan                                      |\n",
            "| 3747 | usa       | US             | Monday   | 2022-01-03 | New Year's Day (in lieu)   | Regional Holiday     | nan                                      |\n",
            "| 3748 | usa       | US             | Monday   | 2022-01-17 | Martin Luther King Jr. Day | Federal Holiday      | 3rd Monday in January                    |\n",
            "| 3749 | usa       | US             | Monday   | 2022-02-21 | President's Day            | Federal Holiday      | 3rd Monday in February                   |\n",
            "| 3750 | usa       | US             | Sunday   | 2022-05-08 | Mother's Day               | Not A Public Holiday | 2nd Sunday in May. Not a public holiday  |\n",
            "| 3751 | usa       | US             | Monday   | 2022-05-30 | Memorial Day               | Federal Holiday      | Last Monday in May                       |\n",
            "| 3752 | usa       | US             | Sunday   | 2022-06-19 | Juneteenth                 | Federal Holiday      | Emancipation Day                         |\n",
            "| 3753 | usa       | US             | Sunday   | 2022-06-19 | Father's Day               | Not A Public Holiday | 3rd Sunday in June. Not a public holiday |\n",
            "| 3754 | usa       | US             | Monday   | 2022-06-20 | Juneteenth (in lieu)       | Federal Holiday      | Emancipation Day                         |\n",
            "| 3755 | usa       | US             | Monday   | 2022-07-04 | Independence Day           | Federal Holiday      | nan                                      |\n",
            "| 3756 | usa       | US             | Monday   | 2022-09-05 | Labor Day                  | Federal Holiday      | 1st Monday in September                  |\n",
            "| 3757 | usa       | US             | Monday   | 2022-10-10 | US Indigenous People's Day | Regional Holiday     | nan                                      |\n",
            "| 3758 | usa       | US             | Monday   | 2022-10-10 | Columbus Day               | Federal Holiday      | 2nd Monday in October                    |\n",
            "| 3759 | usa       | US             | Friday   | 2022-11-11 | Veterans Day               | Federal Holiday      | nan                                      |\n",
            "| 3760 | usa       | US             | Thursday | 2022-11-24 | Thanksgiving               | Federal Holiday      | 4th Thursday in November                 |\n",
            "| 3761 | usa       | US             | Friday   | 2022-11-25 | Day after Thanksgiving     | Regional Holiday     | Day after 4th Thursday in November       |\n",
            "| 3762 | usa       | US             | Sunday   | 2022-12-25 | Christmas Day              | Federal Holiday      | nan                                      |\n",
            "| 3763 | usa       | US             | Monday   | 2022-12-26 | Christmas Day (in lieu)    | Federal Holiday      | nan                                      |\n"
          ]
        }
      ]
    },
    {
      "cell_type": "code",
      "source": [
        "SA= df_holiday_calendar.loc[df_holiday_calendar['Country Code'] == \"SA\"]"
      ],
      "metadata": {
        "id": "VFaoIsMY-N8r"
      },
      "execution_count": null,
      "outputs": []
    },
    {
      "cell_type": "code",
      "source": [
        "print(SA.head(40).to_markdown())"
      ],
      "metadata": {
        "colab": {
          "base_uri": "https://localhost:8080/"
        },
        "id": "hutwRfxC-un5",
        "outputId": "56a1455d-206f-4b2a-bd30-129a8abe0199"
      },
      "execution_count": null,
      "outputs": [
        {
          "output_type": "stream",
          "name": "stdout",
          "text": [
            "|      | Country      | Country Code   | Day       | Date       | Holiday Name           | Type               | Comments                                  |\n",
            "|-----:|:-------------|:---------------|:----------|:-----------|:-----------------------|:-------------------|:------------------------------------------|\n",
            "| 3077 | saudi-arabia | SA             | Tuesday   | 2022-05-03 | Eid Al Fitr            | National Holiday   | End of Ramadan                            |\n",
            "| 3078 | saudi-arabia | SA             | Wednesday | 2022-05-04 | Eid Al Fitr Holiday    | National Holiday   | End of Ramadan                            |\n",
            "| 3079 | saudi-arabia | SA             | Thursday  | 2022-05-05 | Eid Al Fitr Holiday    | National Holiday   | End of Ramadan                            |\n",
            "| 3080 | saudi-arabia | SA             | Friday    | 2022-05-06 | Eid Al Fitr Holiday    | Government Holiday | Public sector only                        |\n",
            "| 3081 | saudi-arabia | SA             | Saturday  | 2022-05-07 | Eid Al Fitr Holiday    | Government Holiday | Public sector only                        |\n",
            "| 3082 | saudi-arabia | SA             | Tuesday   | 2022-07-05 | Eid Al Adha            | Government Holiday | Date to be confirmed. Public sector only  |\n",
            "| 3083 | saudi-arabia | SA             | Wednesday | 2022-07-06 | Eid Al Adha            | Government Holiday | Date to be confirmed. Public sector only  |\n",
            "| 3084 | saudi-arabia | SA             | Thursday  | 2022-07-07 | Eid Al Adha            | Government Holiday | Date to be confirmed. Public sector only  |\n",
            "| 3085 | saudi-arabia | SA             | Friday    | 2022-07-08 | Eid Al Adha            | Government Holiday | Date to be confirmed. Public sector only  |\n",
            "| 3086 | saudi-arabia | SA             | Saturday  | 2022-07-09 | Eid Al Adha            | Government Holiday | Date to be confirmed. Public sector only  |\n",
            "| 3087 | saudi-arabia | SA             | Saturday  | 2022-07-09 | Eid Al Adha            | Government Holiday | Date to be confirmed. Arafat (Haj) Day    |\n",
            "| 3088 | saudi-arabia | SA             | Sunday    | 2022-07-10 | Eid Al Adha            | National Holiday   | Date varies on Lunar cycle                |\n",
            "| 3089 | saudi-arabia | SA             | Monday    | 2022-07-11 | Eid Al Adha            | National Holiday   | Date to be confirmed.                     |\n",
            "| 3090 | saudi-arabia | SA             | Tuesday   | 2022-07-12 | Eid Al Adha            | National Holiday   | Date to be confirmed.                     |\n",
            "| 3091 | saudi-arabia | SA             | Wednesday | 2022-07-13 | Eid Al Adha            | Government Holiday | Date to be confirmed. Public sector only  |\n",
            "| 3092 | saudi-arabia | SA             | Thursday  | 2022-07-14 | Eid Al Adha            | Government Holiday | Date to be confirmed. Public sector only  |\n",
            "| 3093 | saudi-arabia | SA             | Thursday  | 2022-09-22 | National Day (in lieu) | National Holiday   | Date to be confirmed                      |\n",
            "| 3094 | saudi-arabia | SA             | Friday    | 2022-09-23 | National Day           | National Holiday   | The day of the unification of the Kingdom |\n"
          ]
        }
      ]
    },
    {
      "cell_type": "code",
      "source": [
        "AE= df_holiday_calendar.loc[df_holiday_calendar['Country Code'] == \"AE\"]"
      ],
      "metadata": {
        "id": "C8tqkipT-zJJ"
      },
      "execution_count": null,
      "outputs": []
    },
    {
      "cell_type": "code",
      "source": [
        "print(AE.head(40).to_markdown())"
      ],
      "metadata": {
        "colab": {
          "base_uri": "https://localhost:8080/"
        },
        "id": "VOj2V-oU-_M_",
        "outputId": "28195757-7751-4d4f-f96a-bc1ff71e77f6"
      },
      "execution_count": null,
      "outputs": [
        {
          "output_type": "stream",
          "name": "stdout",
          "text": [
            "|      | Country   | Country Code   | Day       | Date       | Holiday Name                | Type                 | Comments               |\n",
            "|-----:|:----------|:---------------|:----------|:-----------|:----------------------------|:---------------------|:-----------------------|\n",
            "| 3669 | uae       | AE             | Saturday  | 2022-01-01 | New Year's Day              | National Holiday     | nan                    |\n",
            "| 3670 | uae       | AE             | Sunday    | 2022-01-02 | New Year's Day Holiday      | National Holiday     | nan                    |\n",
            "| 3671 | uae       | AE             | Tuesday   | 2022-03-01 | Israa & Miaraj Night        | Not A Public Holiday | nan                    |\n",
            "| 3672 | uae       | AE             | Sunday    | 2022-05-01 | Eid Al Fitr Holiday         | National Holiday     | Ramadan 29             |\n",
            "| 3673 | uae       | AE             | Monday    | 2022-05-02 | Eid Al Fitr Holiday         | National Holiday     | Ramadan 30             |\n",
            "| 3674 | uae       | AE             | Tuesday   | 2022-05-03 | Eid Al Fitr                 | National Holiday     | End of Ramadan         |\n",
            "| 3675 | uae       | AE             | Wednesday | 2022-05-04 | Eid al-Fitr Holiday         | National Holiday     | Shawwal 2              |\n",
            "| 3676 | uae       | AE             | Thursday  | 2022-05-05 | Eid al-Fitr Holiday         | National Holiday     | Shawwal 3              |\n",
            "| 3677 | uae       | AE             | Saturday  | 2022-07-09 | Afrah Day                   | National Holiday     | nan                    |\n",
            "| 3678 | uae       | AE             | Sunday    | 2022-07-10 | Eid Al Adha                 | National Holiday     | Feast of the Sacrifice |\n",
            "| 3679 | uae       | AE             | Monday    | 2022-07-11 | Eid Al Adha                 | National Holiday     | nan                    |\n",
            "| 3680 | uae       | AE             | Tuesday   | 2022-07-12 | Eid Al Adha Holiday         | National Holiday     | nan                    |\n",
            "| 3681 | uae       | AE             | Saturday  | 2022-07-30 | Hijri New Year's Day        | National Holiday     | Hijri New Year         |\n",
            "| 3682 | uae       | AE             | Saturday  | 2022-10-08 | Prophet Muhammad’s birthday | National Holiday     | nan                    |\n",
            "| 3683 | uae       | AE             | Thursday  | 2022-12-01 | Commemoration Day           | National Holiday     | nan                    |\n",
            "| 3684 | uae       | AE             | Friday    | 2022-12-02 | National Day                | National Holiday     | nan                    |\n",
            "| 3685 | uae       | AE             | Saturday  | 2022-12-03 | National Day                | National Holiday     | nan                    |\n"
          ]
        }
      ]
    },
    {
      "cell_type": "code",
      "source": [
        "public_holiday2=pd.concat([AU, GB,US,SA,AE])\n",
        "print(public_holiday2.head(112).to_markdown())"
      ],
      "metadata": {
        "colab": {
          "base_uri": "https://localhost:8080/"
        },
        "id": "R6ORd78pAsyh",
        "outputId": "480dbc65-c50d-4858-9e43-234e218f6c7a"
      },
      "execution_count": null,
      "outputs": [
        {
          "output_type": "stream",
          "name": "stdout",
          "text": [
            "|      | Country        | Country Code   | Day       | Date       | Holiday Name                       | Type                 | Comments                                               |\n",
            "|-----:|:---------------|:---------------|:----------|:-----------|:-----------------------------------|:---------------------|:-------------------------------------------------------|\n",
            "|  164 | australia      | AU             | Saturday  | 2022-01-01 | New Year's Day                     | National Holiday     | nan                                                    |\n",
            "|  165 | australia      | AU             | Monday    | 2022-01-03 | New Year's Day (in lieu)           | National Holiday     | nan                                                    |\n",
            "|  166 | australia      | AU             | Wednesday | 2022-01-26 | Australia Day                      | National Holiday     | nan                                                    |\n",
            "|  167 | australia      | AU             | Monday    | 2022-03-07 | Labour Day                         | Regional Holiday     | WA                                                     |\n",
            "|  168 | australia      | AU             | Monday    | 2022-03-14 | Adelaide Cup                       | Regional Holiday     | 2nd Monday in March. SA Only                           |\n",
            "|  169 | australia      | AU             | Monday    | 2022-03-14 | Canberra Day                       | Regional Holiday     | ACT. Second Monday in March                            |\n",
            "|  170 | australia      | AU             | Monday    | 2022-03-14 | Labour Day                         | Regional Holiday     | VIC, TAS                                               |\n",
            "|  171 | australia      | AU             | Friday    | 2022-04-15 | Good Friday                        | National Holiday     | Restricted trading day                                 |\n",
            "|  172 | australia      | AU             | Saturday  | 2022-04-16 | Easter Saturday                    | Regional Holiday     | Except TAS, WA                                         |\n",
            "|  173 | australia      | AU             | Sunday    | 2022-04-17 | Easter Sunday                      | Regional Holiday     | ACT, NSW, QLD, VIC                                     |\n",
            "|  174 | australia      | AU             | Monday    | 2022-04-18 | Easter Monday                      | National Holiday     | Monday after Easter Sunday                             |\n",
            "|  175 | australia      | AU             | Tuesday   | 2022-04-19 | Easter Tuesday                     | Government Holiday   | Tasmania. Government only                              |\n",
            "|  176 | australia      | AU             | Monday    | 2022-04-25 | Anzac Day                          | National Holiday     | Restricted trading day                                 |\n",
            "|  177 | australia      | AU             | Monday    | 2022-05-02 | Labour Day                         | Regional Holiday     | QLD, NT                                                |\n",
            "|  178 | australia      | AU             | Sunday    | 2022-05-08 | Mother's Day                       | Not A Public Holiday | 2nd Sunday in May. Not a public holiday                |\n",
            "|  179 | australia      | AU             | Monday    | 2022-05-30 | Reconciliation Day                 | Regional Holiday     | ACT Only. Monday on or after 27 May                    |\n",
            "|  180 | australia      | AU             | Monday    | 2022-06-06 | Western Australia Day              | Regional Holiday     | First Monday in June. WA only                          |\n",
            "|  181 | australia      | AU             | Monday    | 2022-06-13 | Queen's Birthday                   | Regional Holiday     | 2nd Monday in June. except QLD, WA                     |\n",
            "|  182 | australia      | AU             | Monday    | 2022-08-01 | Picnic Day                         | Regional Holiday     | 1st Monday in August. NT Only                          |\n",
            "|  183 | australia      | AU             | Monday    | 2022-08-01 | Bank Holiday                       | Not A Public Holiday | New South Wales. Banks only                            |\n",
            "|  184 | australia      | AU             | Wednesday | 2022-08-10 | Ekka People's Day                  | Regional Holiday     | Royal Queensland Show. Brisbane only                   |\n",
            "|  185 | australia      | AU             | Sunday    | 2022-09-04 | Father's Day                       | Not A Public Holiday | 1st Sunday in September. Not a public holiday          |\n",
            "|  186 | australia      | AU             | Monday    | 2022-09-26 | Queen's Birthday                   | Regional Holiday     | Last Monday in September. WA Only                      |\n",
            "|  187 | australia      | AU             | Friday    | 2022-09-30 | Grand Final Eve                    | Regional Holiday     | Victoria. Probable Date                                |\n",
            "|  188 | australia      | AU             | Monday    | 2022-10-03 | Labour Day                         | Regional Holiday     | NSW, ACT, SA                                           |\n",
            "|  189 | australia      | AU             | Monday    | 2022-10-03 | Queen's Birthday                   | Regional Holiday     | 1st Monday in October. QLD                             |\n",
            "|  190 | australia      | AU             | Tuesday   | 2022-11-01 | Melbourne Cup Day                  | Regional Holiday     | 1st Tuesday in November. VIC Only                      |\n",
            "|  191 | australia      | AU             | Saturday  | 2022-12-24 | Christmas Eve                      | Regional Holiday     | South Australia. From 7pm - midnight                   |\n",
            "|  192 | australia      | AU             | Saturday  | 2022-12-24 | Christmas Eve                      | Regional Holiday     | Queensland. From 6pm - midnight                        |\n",
            "|  193 | australia      | AU             | Saturday  | 2022-12-24 | Christmas Eve                      | Regional Holiday     | Northern Territory. From 7pm - midnight                |\n",
            "|  194 | australia      | AU             | Sunday    | 2022-12-25 | Christmas Day                      | National Holiday     | Restricted trading day                                 |\n",
            "|  195 | australia      | AU             | Monday    | 2022-12-26 | Boxing Day                         | Regional Holiday     | Except South Australia                                 |\n",
            "|  196 | australia      | AU             | Monday    | 2022-12-26 | Proclamation Day                   | Regional Holiday     | South Australia. First working day after Christmas Day |\n",
            "|  197 | australia      | AU             | Tuesday   | 2022-12-27 | Christmas Day (in lieu)            | National Holiday     | nan                                                    |\n",
            "|  198 | australia      | AU             | Saturday  | 2022-12-31 | New Year's Eve                     | Regional Holiday     | South Australia. From 7pm - midnight                   |\n",
            "|  199 | australia      | AU             | Saturday  | 2022-12-31 | New Year's Eve                     | Regional Holiday     | Northern Territory. From 7pm - midnight                |\n",
            "| 3686 | united-kingdom | GB             | Saturday  | 2022-01-01 | New Year's Day                     | Bank Holiday         | nan                                                    |\n",
            "| 3687 | united-kingdom | GB             | Monday    | 2022-01-03 | New Year's Day (in lieu)           | Bank Holiday         | nan                                                    |\n",
            "| 3688 | united-kingdom | GB             | Tuesday   | 2022-01-04 | Day after New Year's Day (in lieu) | Regional Holiday     | Scotland                                               |\n",
            "| 3689 | united-kingdom | GB             | Tuesday   | 2022-03-01 | St. David's Day                    | Not A Public Holiday | Wales Only. Not a public holiday                       |\n",
            "| 3690 | united-kingdom | GB             | Thursday  | 2022-03-17 | St. Patrick's Day                  | Regional Holiday     | Northern Ireland                                       |\n",
            "| 3691 | united-kingdom | GB             | Sunday    | 2022-03-27 | Mothering Sunday                   | Not A Public Holiday | Not a National Holiday                                 |\n",
            "| 3692 | united-kingdom | GB             | Friday    | 2022-04-15 | Good Friday                        | Bank Holiday         | nan                                                    |\n",
            "| 3693 | united-kingdom | GB             | Sunday    | 2022-04-17 | Easter Sunday                      | Not A Public Holiday | nan                                                    |\n",
            "| 3694 | united-kingdom | GB             | Monday    | 2022-04-18 | Easter Monday                      | Regional Holiday     | Except Scotland                                        |\n",
            "| 3695 | united-kingdom | GB             | Saturday  | 2022-04-23 | St. George's Day                   | Not A Public Holiday | England. Not a public holiday                          |\n",
            "| 3696 | united-kingdom | GB             | Monday    | 2022-05-02 | Early May Bank Holiday             | Bank Holiday         | First Monday in May                                    |\n",
            "| 3697 | united-kingdom | GB             | Thursday  | 2022-06-02 | Spring Bank Holiday                | Bank Holiday         | Moved for Platinum Jubilee                             |\n",
            "| 3698 | united-kingdom | GB             | Friday    | 2022-06-03 | Platinum Jubilee                   | Bank Holiday         | nan                                                    |\n",
            "| 3699 | united-kingdom | GB             | Sunday    | 2022-06-19 | Father's Day                       | Not A Public Holiday | 3rd Sunday in June. Not a public holiday               |\n",
            "| 3700 | united-kingdom | GB             | Tuesday   | 2022-07-12 | Battle of the Boyne (in lieu)      | Regional Holiday     | Northern Ireland Only                                  |\n",
            "| 3701 | united-kingdom | GB             | Monday    | 2022-08-01 | Summer bank holiday                | Regional Holiday     | First Monday in August (Scotland)                      |\n",
            "| 3702 | united-kingdom | GB             | Monday    | 2022-08-29 | August Bank Holiday                | Regional Holiday     | Last Monday in August (except Scotland)                |\n",
            "| 3703 | united-kingdom | GB             | Sunday    | 2022-11-13 | Remembrance Sunday                 | Not A Public Holiday | Not a public holiday                                   |\n",
            "| 3704 | united-kingdom | GB             | Wednesday | 2022-11-30 | St. Andrew's Day                   | Regional Holiday     | Scotland Only                                          |\n",
            "| 3705 | united-kingdom | GB             | Sunday    | 2022-12-25 | Christmas Day                      | Bank Holiday         | nan                                                    |\n",
            "| 3706 | united-kingdom | GB             | Monday    | 2022-12-26 | Boxing Day                         | Bank Holiday         | nan                                                    |\n",
            "| 3707 | united-kingdom | GB             | Tuesday   | 2022-12-27 | Christmas Day (in lieu)            | Bank Holiday         | nan                                                    |\n",
            "| 3708 | united-kingdom | GB             | Wednesday | 2022-12-28 | Bank Holiday                       | Not A Public Holiday | Northern Ireland. Banks closed                         |\n",
            "| 3746 | usa            | US             | Saturday  | 2022-01-01 | New Year's Day                     | Federal Holiday      | nan                                                    |\n",
            "| 3747 | usa            | US             | Monday    | 2022-01-03 | New Year's Day (in lieu)           | Regional Holiday     | nan                                                    |\n",
            "| 3748 | usa            | US             | Monday    | 2022-01-17 | Martin Luther King Jr. Day         | Federal Holiday      | 3rd Monday in January                                  |\n",
            "| 3749 | usa            | US             | Monday    | 2022-02-21 | President's Day                    | Federal Holiday      | 3rd Monday in February                                 |\n",
            "| 3750 | usa            | US             | Sunday    | 2022-05-08 | Mother's Day                       | Not A Public Holiday | 2nd Sunday in May. Not a public holiday                |\n",
            "| 3751 | usa            | US             | Monday    | 2022-05-30 | Memorial Day                       | Federal Holiday      | Last Monday in May                                     |\n",
            "| 3752 | usa            | US             | Sunday    | 2022-06-19 | Juneteenth                         | Federal Holiday      | Emancipation Day                                       |\n",
            "| 3753 | usa            | US             | Sunday    | 2022-06-19 | Father's Day                       | Not A Public Holiday | 3rd Sunday in June. Not a public holiday               |\n",
            "| 3754 | usa            | US             | Monday    | 2022-06-20 | Juneteenth (in lieu)               | Federal Holiday      | Emancipation Day                                       |\n",
            "| 3755 | usa            | US             | Monday    | 2022-07-04 | Independence Day                   | Federal Holiday      | nan                                                    |\n",
            "| 3756 | usa            | US             | Monday    | 2022-09-05 | Labor Day                          | Federal Holiday      | 1st Monday in September                                |\n",
            "| 3757 | usa            | US             | Monday    | 2022-10-10 | US Indigenous People's Day         | Regional Holiday     | nan                                                    |\n",
            "| 3758 | usa            | US             | Monday    | 2022-10-10 | Columbus Day                       | Federal Holiday      | 2nd Monday in October                                  |\n",
            "| 3759 | usa            | US             | Friday    | 2022-11-11 | Veterans Day                       | Federal Holiday      | nan                                                    |\n",
            "| 3760 | usa            | US             | Thursday  | 2022-11-24 | Thanksgiving                       | Federal Holiday      | 4th Thursday in November                               |\n",
            "| 3761 | usa            | US             | Friday    | 2022-11-25 | Day after Thanksgiving             | Regional Holiday     | Day after 4th Thursday in November                     |\n",
            "| 3762 | usa            | US             | Sunday    | 2022-12-25 | Christmas Day                      | Federal Holiday      | nan                                                    |\n",
            "| 3763 | usa            | US             | Monday    | 2022-12-26 | Christmas Day (in lieu)            | Federal Holiday      | nan                                                    |\n",
            "| 3077 | saudi-arabia   | SA             | Tuesday   | 2022-05-03 | Eid Al Fitr                        | National Holiday     | End of Ramadan                                         |\n",
            "| 3078 | saudi-arabia   | SA             | Wednesday | 2022-05-04 | Eid Al Fitr Holiday                | National Holiday     | End of Ramadan                                         |\n",
            "| 3079 | saudi-arabia   | SA             | Thursday  | 2022-05-05 | Eid Al Fitr Holiday                | National Holiday     | End of Ramadan                                         |\n",
            "| 3080 | saudi-arabia   | SA             | Friday    | 2022-05-06 | Eid Al Fitr Holiday                | Government Holiday   | Public sector only                                     |\n",
            "| 3081 | saudi-arabia   | SA             | Saturday  | 2022-05-07 | Eid Al Fitr Holiday                | Government Holiday   | Public sector only                                     |\n",
            "| 3082 | saudi-arabia   | SA             | Tuesday   | 2022-07-05 | Eid Al Adha                        | Government Holiday   | Date to be confirmed. Public sector only               |\n",
            "| 3083 | saudi-arabia   | SA             | Wednesday | 2022-07-06 | Eid Al Adha                        | Government Holiday   | Date to be confirmed. Public sector only               |\n",
            "| 3084 | saudi-arabia   | SA             | Thursday  | 2022-07-07 | Eid Al Adha                        | Government Holiday   | Date to be confirmed. Public sector only               |\n",
            "| 3085 | saudi-arabia   | SA             | Friday    | 2022-07-08 | Eid Al Adha                        | Government Holiday   | Date to be confirmed. Public sector only               |\n",
            "| 3086 | saudi-arabia   | SA             | Saturday  | 2022-07-09 | Eid Al Adha                        | Government Holiday   | Date to be confirmed. Public sector only               |\n",
            "| 3087 | saudi-arabia   | SA             | Saturday  | 2022-07-09 | Eid Al Adha                        | Government Holiday   | Date to be confirmed. Arafat (Haj) Day                 |\n",
            "| 3088 | saudi-arabia   | SA             | Sunday    | 2022-07-10 | Eid Al Adha                        | National Holiday     | Date varies on Lunar cycle                             |\n",
            "| 3089 | saudi-arabia   | SA             | Monday    | 2022-07-11 | Eid Al Adha                        | National Holiday     | Date to be confirmed.                                  |\n",
            "| 3090 | saudi-arabia   | SA             | Tuesday   | 2022-07-12 | Eid Al Adha                        | National Holiday     | Date to be confirmed.                                  |\n",
            "| 3091 | saudi-arabia   | SA             | Wednesday | 2022-07-13 | Eid Al Adha                        | Government Holiday   | Date to be confirmed. Public sector only               |\n",
            "| 3092 | saudi-arabia   | SA             | Thursday  | 2022-07-14 | Eid Al Adha                        | Government Holiday   | Date to be confirmed. Public sector only               |\n",
            "| 3093 | saudi-arabia   | SA             | Thursday  | 2022-09-22 | National Day (in lieu)             | National Holiday     | Date to be confirmed                                   |\n",
            "| 3094 | saudi-arabia   | SA             | Friday    | 2022-09-23 | National Day                       | National Holiday     | The day of the unification of the Kingdom              |\n",
            "| 3669 | uae            | AE             | Saturday  | 2022-01-01 | New Year's Day                     | National Holiday     | nan                                                    |\n",
            "| 3670 | uae            | AE             | Sunday    | 2022-01-02 | New Year's Day Holiday             | National Holiday     | nan                                                    |\n",
            "| 3671 | uae            | AE             | Tuesday   | 2022-03-01 | Israa & Miaraj Night               | Not A Public Holiday | nan                                                    |\n",
            "| 3672 | uae            | AE             | Sunday    | 2022-05-01 | Eid Al Fitr Holiday                | National Holiday     | Ramadan 29                                             |\n",
            "| 3673 | uae            | AE             | Monday    | 2022-05-02 | Eid Al Fitr Holiday                | National Holiday     | Ramadan 30                                             |\n",
            "| 3674 | uae            | AE             | Tuesday   | 2022-05-03 | Eid Al Fitr                        | National Holiday     | End of Ramadan                                         |\n",
            "| 3675 | uae            | AE             | Wednesday | 2022-05-04 | Eid al-Fitr Holiday                | National Holiday     | Shawwal 2                                              |\n",
            "| 3676 | uae            | AE             | Thursday  | 2022-05-05 | Eid al-Fitr Holiday                | National Holiday     | Shawwal 3                                              |\n",
            "| 3677 | uae            | AE             | Saturday  | 2022-07-09 | Afrah Day                          | National Holiday     | nan                                                    |\n",
            "| 3678 | uae            | AE             | Sunday    | 2022-07-10 | Eid Al Adha                        | National Holiday     | Feast of the Sacrifice                                 |\n",
            "| 3679 | uae            | AE             | Monday    | 2022-07-11 | Eid Al Adha                        | National Holiday     | nan                                                    |\n",
            "| 3680 | uae            | AE             | Tuesday   | 2022-07-12 | Eid Al Adha Holiday                | National Holiday     | nan                                                    |\n",
            "| 3681 | uae            | AE             | Saturday  | 2022-07-30 | Hijri New Year's Day               | National Holiday     | Hijri New Year                                         |\n",
            "| 3682 | uae            | AE             | Saturday  | 2022-10-08 | Prophet Muhammad’s birthday        | National Holiday     | nan                                                    |\n",
            "| 3683 | uae            | AE             | Thursday  | 2022-12-01 | Commemoration Day                  | National Holiday     | nan                                                    |\n",
            "| 3684 | uae            | AE             | Friday    | 2022-12-02 | National Day                       | National Holiday     | nan                                                    |\n",
            "| 3685 | uae            | AE             | Saturday  | 2022-12-03 | National Day                       | National Holiday     | nan                                                    |\n"
          ]
        }
      ]
    },
    {
      "cell_type": "code",
      "source": [
        "print(public_holiday2.info)"
      ],
      "metadata": {
        "colab": {
          "base_uri": "https://localhost:8080/"
        },
        "id": "1Z1zfyvYD1Dp",
        "outputId": "8d89c36c-c27a-405d-d106-baaceff6be3a"
      },
      "execution_count": null,
      "outputs": [
        {
          "output_type": "stream",
          "name": "stdout",
          "text": [
            "<bound method DataFrame.info of         Country Country Code        Day        Date  \\\n",
            "164   australia           AU   Saturday  2022-01-01   \n",
            "165   australia           AU     Monday  2022-01-03   \n",
            "166   australia           AU  Wednesday  2022-01-26   \n",
            "167   australia           AU     Monday  2022-03-07   \n",
            "168   australia           AU     Monday  2022-03-14   \n",
            "...         ...          ...        ...         ...   \n",
            "3681        uae           AE   Saturday  2022-07-30   \n",
            "3682        uae           AE   Saturday  2022-10-08   \n",
            "3683        uae           AE   Thursday  2022-12-01   \n",
            "3684        uae           AE     Friday  2022-12-02   \n",
            "3685        uae           AE   Saturday  2022-12-03   \n",
            "\n",
            "                     Holiday Name              Type  \\\n",
            "164                New Year's Day  National Holiday   \n",
            "165      New Year's Day (in lieu)  National Holiday   \n",
            "166                 Australia Day  National Holiday   \n",
            "167                    Labour Day  Regional Holiday   \n",
            "168                  Adelaide Cup  Regional Holiday   \n",
            "...                           ...               ...   \n",
            "3681         Hijri New Year's Day  National Holiday   \n",
            "3682  Prophet Muhammad’s birthday  National Holiday   \n",
            "3683            Commemoration Day  National Holiday   \n",
            "3684                 National Day  National Holiday   \n",
            "3685                 National Day  National Holiday   \n",
            "\n",
            "                          Comments  \n",
            "164                            NaN  \n",
            "165                            NaN  \n",
            "166                            NaN  \n",
            "167                             WA  \n",
            "168   2nd Monday in March. SA Only  \n",
            "...                            ...  \n",
            "3681                Hijri New Year  \n",
            "3682                           NaN  \n",
            "3683                           NaN  \n",
            "3684                           NaN  \n",
            "3685                           NaN  \n",
            "\n",
            "[112 rows x 7 columns]>\n"
          ]
        }
      ]
    },
    {
      "cell_type": "code",
      "source": [
        "public_holiday2.to_csv('/content/drive/MyDrive/2209-Data/Projets/Projet2/Hackaton - nous/public_holiday2.csv', index=False)"
      ],
      "metadata": {
        "id": "wjb3qaOaEFt0"
      },
      "execution_count": null,
      "outputs": []
    }
  ]
}