{
  "nbformat": 4,
  "nbformat_minor": 0,
  "metadata": {
    "colab": {
      "provenance": []
    },
    "kernelspec": {
      "name": "python3",
      "display_name": "Python 3"
    },
    "language_info": {
      "name": "python"
    }
  },
  "cells": [
    {
      "cell_type": "code",
      "execution_count": null,
      "metadata": {
        "id": "ZTbXdK2i7RvU",
        "colab": {
          "base_uri": "https://localhost:8080/"
        },
        "outputId": "d9726003-b8e9-47a2-9a42-5da58a193655"
      },
      "outputs": [
        {
          "output_type": "stream",
          "name": "stdout",
          "text": [
            "Drive already mounted at /content/drive; to attempt to forcibly remount, call drive.mount(\"/content/drive\", force_remount=True).\n"
          ]
        }
      ],
      "source": [
        "import pandas as pd\n",
        "import numpy as np\n",
        "import io\n",
        "from google.colab import drive\n",
        "from scipy.stats import poisson\n",
        "import random\n",
        "drive.mount('/content/drive')"
      ]
    },
    {
      "cell_type": "code",
      "source": [
        "link = \"/content/drive/MyDrive/2209-Data/Projets/Projet2/Hackaton - nous/df_resto_hotel.csv\"\n",
        "df_hotel = pd.read_csv(link,sep=\",\")"
      ],
      "metadata": {
        "id": "gSyso1eW73Ot"
      },
      "execution_count": null,
      "outputs": []
    },
    {
      "cell_type": "code",
      "source": [
        "print(df_hotel.head().to_markdown())"
      ],
      "metadata": {
        "colab": {
          "base_uri": "https://localhost:8080/"
        },
        "id": "khMv6Wiy8xMF",
        "outputId": "39dc47e6-493e-45f7-e776-a3c960d5fb26"
      },
      "execution_count": null,
      "outputs": [
        {
          "output_type": "stream",
          "name": "stdout",
          "text": [
            "|    | Name                             | Location_x   |   MinPrice |   MaxPrice | Cuisine                  |   Longitude |   Latitude |   PhoneNumber | Url                                                                                           | WebsiteUrl                                                                              | Award            |    CP | Adresse                                      |   Award2 | CLASSEMENT   | NOM COMMERCIAL            | ADRESSE                | Location_y   |   TELEPHONE | COURRIEL                        | SITE INTERNET                       |   CAPACITE D'ACCUEIL (PERSONNES) |   NOMBRE DE CHAMBRES | coordonnees        | Nom du département   | Nom de la région   |   CLASSEMENT2 |\n",
            "|---:|:---------------------------------|:-------------|-----------:|-----------:|:-------------------------|------------:|-----------:|--------------:|:----------------------------------------------------------------------------------------------|:----------------------------------------------------------------------------------------|:-----------------|------:|:---------------------------------------------|---------:|:-------------|:--------------------------|:-----------------------|:-------------|------------:|:--------------------------------|:------------------------------------|---------------------------------:|---------------------:|:-------------------|:---------------------|:-------------------|--------------:|\n",
            "|  0 | Le Pré Catelan                   | Paris        |        150 |        330 | Creative, Modern Cuisine |     2.25072 |    48.8639 |   3.31441e+10 | https://guide.michelin.com/en/ile-de-france/paris/restaurant/le-pre-catelan                   | https://www.leprecatelan.com/                                                           | 3 MICHELIN Stars | 75016 | Route de Suresnes - bois de Boulogne         |        3 | 3 étoiles    | HÔTEL LONGCHAMP ÉLYSÉES   | 68 RUE DE LONGCHAMP    | Paris        |  0144342414 | info@hotel-longchamp.com        | http://www.hotel-longchamp.com      |                               44 |                   19 | 48.865251,2.285654 | PARIS                | ILE-DE-FRANCE      |             3 |\n",
            "|  1 | Alléno Paris au Pavillon Ledoyen | Paris        |        280 |        395 | Creative                 |     2.3165  |    48.8661 |   3.31531e+10 | https://guide.michelin.com/en/ile-de-france/paris/restaurant/alleno-paris-au-pavillon-ledoyen | https://www.yannick-alleno.com                                                          | 3 MICHELIN Stars | 75008 | 8 avenue Dutuit                              |        3 | 3 étoiles    | HÔTEL ALISON              | 21 rue de Surène       | Paris        |  0142655400 | hotel.alison@orange.fr          | http://www.hotelalison.com          |                               60 |                   34 | 48.871041,2.320259 | PARIS                | ILE-DE-FRANCE      |             3 |\n",
            "|  2 | Arpège                           | Paris        |        185 |        460 | Creative                 |     2.31696 |    48.8557 |   3.31471e+10 | https://guide.michelin.com/en/ile-de-france/paris/restaurant/arpege                           | https://www.alain-passard.com/                                                          | 3 MICHELIN Stars | 75007 | 84 rue de Varenne                            |        3 | 4 étoiles    | HÔTEL DUC DE SAINT SIMON  | 14 RUE DE SAINT SIMON  | Paris        |  0144392020 | hotelsaintsimon@wanadoo.fr      | http://hotelducdesaintsimon.com/fr/ |                               72 |                   34 | 48.856043,2.323658 | PARIS                | ILE-DE-FRANCE      |             4 |\n",
            "|  3 | Épicure                          | Paris        |        350 |        395 | Modern Cuisine           |     2.31437 |    48.8717 |   3.31534e+10 | https://guide.michelin.com/en/ile-de-france/paris/restaurant/epicure                          | https://www.oetkercollection.com/fr/hotels/le-bristol-paris/restaurants-et-bar/epicure/ | 3 MICHELIN Stars | 75008 | Le Bristol, 112 rue du Faubourg-Saint-Honoré |        3 | 3 étoiles    | HÔTEL ALISON              | 21 rue de Surène       | Paris        |  0142655400 | hotel.alison@orange.fr          | http://www.hotelalison.com          |                               60 |                   34 | 48.871041,2.320259 | PARIS                | ILE-DE-FRANCE      |             3 |\n",
            "|  4 | Plénitude - Cheval Blanc Paris   | Paris        |        340 |        415 | Creative                 |     2.34216 |    48.8588 |   3.31794e+10 | https://guide.michelin.com/en/ile-de-france/paris/restaurant/plenitude-cheval-blanc-paris     | https://www.chevalblanc.com/en/                                                         | 3 MICHELIN Stars | 75001 | 8 quai du Louvre                             |        3 | 3 étoiles    | HÔTEL LOUVRE BONS ENFANTS | 5 rue des bons enfants | Paris        |  0142614731 | info@hotellouvrebonsenfants.com | www.hotellouvrebonsenfants.com      |                               61 |                   33 | 48.862801,2.338203 | PARIS                | ILE-DE-FRANCE      |             3 |\n"
          ]
        }
      ]
    },
    {
      "cell_type": "code",
      "source": [
        "#tarif à \"créer\" pour les hôtels:\n",
        "def tarif (CLASSEMENT2):\n",
        "    if CLASSEMENT2 ==1:\n",
        "      return np.random.randint(50,100)\n",
        "    elif CLASSEMENT2 ==2:\n",
        "      return np.random.randint(101,150)\n",
        "    elif CLASSEMENT2 ==3:\n",
        "     return np.random.randint(151,300)\n",
        "    elif CLASSEMENT2 ==4:\n",
        "      return np.random.randint(301,800)\n",
        "    else:\n",
        "      return np.random.randint(801,1500)\n",
        "    \n"
      ],
      "metadata": {
        "id": "VRIJbpZ69Kau"
      },
      "execution_count": null,
      "outputs": []
    },
    {
      "cell_type": "code",
      "source": [
        "print(tarif(2))"
      ],
      "metadata": {
        "colab": {
          "base_uri": "https://localhost:8080/"
        },
        "id": "spi7-_KfBRUq",
        "outputId": "bd041324-8424-448a-9c4d-004cd06ea584"
      },
      "execution_count": null,
      "outputs": [
        {
          "output_type": "stream",
          "name": "stdout",
          "text": [
            "104\n"
          ]
        }
      ]
    },
    {
      "cell_type": "code",
      "source": [
        "df_hotel['tarif_hotel']=df_hotel['CLASSEMENT2'].apply(tarif)"
      ],
      "metadata": {
        "id": "zAK8BoDYDG4T"
      },
      "execution_count": null,
      "outputs": []
    },
    {
      "cell_type": "code",
      "source": [
        "print(df_hotel.head().to_markdown())"
      ],
      "metadata": {
        "colab": {
          "base_uri": "https://localhost:8080/"
        },
        "id": "C-KHjLApDlJ9",
        "outputId": "5443b65c-0c9f-4d54-8aed-315a87184aaf"
      },
      "execution_count": null,
      "outputs": [
        {
          "output_type": "stream",
          "name": "stdout",
          "text": [
            "|    | Name                             | Location_x   |   MinPrice |   MaxPrice | Cuisine                  |   Longitude |   Latitude |   PhoneNumber | Url                                                                                           | WebsiteUrl                                                                              | Award            |    CP | Adresse                                      |   Award2 | CLASSEMENT   | NOM COMMERCIAL            | ADRESSE                | Location_y   |   TELEPHONE | COURRIEL                        | SITE INTERNET                       |   CAPACITE D'ACCUEIL (PERSONNES) |   NOMBRE DE CHAMBRES | coordonnees        | Nom du département   | Nom de la région   |   CLASSEMENT2 |   tarif_hotel |\n",
            "|---:|:---------------------------------|:-------------|-----------:|-----------:|:-------------------------|------------:|-----------:|--------------:|:----------------------------------------------------------------------------------------------|:----------------------------------------------------------------------------------------|:-----------------|------:|:---------------------------------------------|---------:|:-------------|:--------------------------|:-----------------------|:-------------|------------:|:--------------------------------|:------------------------------------|---------------------------------:|---------------------:|:-------------------|:---------------------|:-------------------|--------------:|--------------:|\n",
            "|  0 | Le Pré Catelan                   | Paris        |        150 |        330 | Creative, Modern Cuisine |     2.25072 |    48.8639 |   3.31441e+10 | https://guide.michelin.com/en/ile-de-france/paris/restaurant/le-pre-catelan                   | https://www.leprecatelan.com/                                                           | 3 MICHELIN Stars | 75016 | Route de Suresnes - bois de Boulogne         |        3 | 3 étoiles    | HÔTEL LONGCHAMP ÉLYSÉES   | 68 RUE DE LONGCHAMP    | Paris        |  0144342414 | info@hotel-longchamp.com        | http://www.hotel-longchamp.com      |                               44 |                   19 | 48.865251,2.285654 | PARIS                | ILE-DE-FRANCE      |             3 |           260 |\n",
            "|  1 | Alléno Paris au Pavillon Ledoyen | Paris        |        280 |        395 | Creative                 |     2.3165  |    48.8661 |   3.31531e+10 | https://guide.michelin.com/en/ile-de-france/paris/restaurant/alleno-paris-au-pavillon-ledoyen | https://www.yannick-alleno.com                                                          | 3 MICHELIN Stars | 75008 | 8 avenue Dutuit                              |        3 | 3 étoiles    | HÔTEL ALISON              | 21 rue de Surène       | Paris        |  0142655400 | hotel.alison@orange.fr          | http://www.hotelalison.com          |                               60 |                   34 | 48.871041,2.320259 | PARIS                | ILE-DE-FRANCE      |             3 |           296 |\n",
            "|  2 | Arpège                           | Paris        |        185 |        460 | Creative                 |     2.31696 |    48.8557 |   3.31471e+10 | https://guide.michelin.com/en/ile-de-france/paris/restaurant/arpege                           | https://www.alain-passard.com/                                                          | 3 MICHELIN Stars | 75007 | 84 rue de Varenne                            |        3 | 4 étoiles    | HÔTEL DUC DE SAINT SIMON  | 14 RUE DE SAINT SIMON  | Paris        |  0144392020 | hotelsaintsimon@wanadoo.fr      | http://hotelducdesaintsimon.com/fr/ |                               72 |                   34 | 48.856043,2.323658 | PARIS                | ILE-DE-FRANCE      |             4 |           511 |\n",
            "|  3 | Épicure                          | Paris        |        350 |        395 | Modern Cuisine           |     2.31437 |    48.8717 |   3.31534e+10 | https://guide.michelin.com/en/ile-de-france/paris/restaurant/epicure                          | https://www.oetkercollection.com/fr/hotels/le-bristol-paris/restaurants-et-bar/epicure/ | 3 MICHELIN Stars | 75008 | Le Bristol, 112 rue du Faubourg-Saint-Honoré |        3 | 3 étoiles    | HÔTEL ALISON              | 21 rue de Surène       | Paris        |  0142655400 | hotel.alison@orange.fr          | http://www.hotelalison.com          |                               60 |                   34 | 48.871041,2.320259 | PARIS                | ILE-DE-FRANCE      |             3 |           298 |\n",
            "|  4 | Plénitude - Cheval Blanc Paris   | Paris        |        340 |        415 | Creative                 |     2.34216 |    48.8588 |   3.31794e+10 | https://guide.michelin.com/en/ile-de-france/paris/restaurant/plenitude-cheval-blanc-paris     | https://www.chevalblanc.com/en/                                                         | 3 MICHELIN Stars | 75001 | 8 quai du Louvre                             |        3 | 3 étoiles    | HÔTEL LOUVRE BONS ENFANTS | 5 rue des bons enfants | Paris        |  0142614731 | info@hotellouvrebonsenfants.com | www.hotellouvrebonsenfants.com      |                               61 |                   33 | 48.862801,2.338203 | PARIS                | ILE-DE-FRANCE      |             3 |           272 |\n"
          ]
        }
      ]
    },
    {
      "cell_type": "code",
      "source": [],
      "metadata": {
        "id": "O-6MmDsqRLYW"
      },
      "execution_count": null,
      "outputs": []
    },
    {
      "cell_type": "code",
      "source": [
        "df_hotel.to_csv('/content/drive/MyDrive/2209-Data/Projets/Projet2/Hackaton - nous/hotel2avectarifgreg.csv', index=False)"
      ],
      "metadata": {
        "id": "cY5yT11RKE5b"
      },
      "execution_count": null,
      "outputs": []
    }
  ]
}